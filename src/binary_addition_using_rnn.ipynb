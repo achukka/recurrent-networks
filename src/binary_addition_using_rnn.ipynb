{
 "metadata": {
  "name": "",
  "signature": "sha256:c5b48f719f970d52b80c404544e5026610acbe68d70cc7dcfc8fc9e707c0fbf3"
 },
 "nbformat": 3,
 "nbformat_minor": 0,
 "worksheets": [
  {
   "cells": [
    {
     "cell_type": "code",
     "collapsed": false,
     "input": [
      "# Import Libraries\n",
      "import numpy as np\n",
      "import copy"
     ],
     "language": "python",
     "metadata": {},
     "outputs": [],
     "prompt_number": 600
    },
    {
     "cell_type": "code",
     "collapsed": false,
     "input": [
      "# Set the random seed for reproducibility\n",
      "np.random.seed(2016)"
     ],
     "language": "python",
     "metadata": {},
     "outputs": [],
     "prompt_number": 601
    },
    {
     "cell_type": "code",
     "collapsed": false,
     "input": [
      "# Sigmoid Activation function\n",
      "def sigmoid(z):\n",
      "    return 1/(1+np.exp(-z))"
     ],
     "language": "python",
     "metadata": {},
     "outputs": [],
     "prompt_number": 602
    },
    {
     "cell_type": "code",
     "collapsed": false,
     "input": [
      "# Sigmoid Derivative\n",
      "def sigmoid_derivative(z):\n",
      "    return z*(1-z)"
     ],
     "language": "python",
     "metadata": {},
     "outputs": [],
     "prompt_number": 603
    },
    {
     "cell_type": "code",
     "collapsed": false,
     "input": [
      "# Base Class of a Simple Neural Network\n",
      "class Network(object):\n",
      "    def __init__(self, sizes):\n",
      "        # Assumes one input layer, 1 hidden layers, one output layer\n",
      "        self.sizes = sizes\n",
      "        self.num_layers = len(sizes)\n",
      "        # np.radnom.rand is a gaussian with mean 0, variance 1\n",
      "        # For now we don't assume any biases\n",
      "        # self.biases = [np.random.randn(y,1) for y in sizes[1:]]\n",
      "        self.weights_0 = np.random.rand(sizes[0],sizes[1])/np.sqrt(sizes[1])\n",
      "        self.weights_1 = np.random.rand(sizes[1],sizes[2])/np.sqrt(sizes[2])\n",
      "        self.weights_h = np.random.rand(sizes[1],sizes[1])/np.sqrt(sizes[1])\n",
      "        self.weights_0 = 2 * np.random.rand(sizes[0],sizes[1]) - 1\n",
      "        self.weights_1 = 2 * np.random.rand(sizes[1],sizes[2]) - 1\n",
      "        self.weights_h = 2 * np.random.rand(sizes[1],sizes[1]) - 1\n",
      "        self.hidden_values = [np.zeros(sizes[1])]\n",
      "        self.output_deltas = []\n",
      "        \n",
      "    # This is the feed forward operation of the net\n",
      "    def feedforward(self, a):\n",
      "        ''' Returns the output of the network. If 'a' is the input '''\n",
      "        hidden_layer = sigmoid(np.dot(a, self.weights_0) + np.dot(self.hidden_values[-1], self.weights_h))\n",
      "        self.hidden_values.append(copy.deepcopy(hidden_layer))\n",
      "        return sigmoid(np.dot(hidden_layer, self.weights_1))\n",
      "        \n",
      "    # Train the data for epochs\n",
      "    def train(self, train_data, binary_dim=8, eta=0.1, epochs=10000):\n",
      "        for epoch in xrange(epochs):\n",
      "            max_num=np.power(2,binary_dim)\n",
      "            # Perform a simple addition (a = b + c)\n",
      "            a_int = np.random.randint(max_num/2) # Integer version\n",
      "            a = train_data[a_int] # Binary encode\n",
      "\n",
      "            b_int = np.random.randint(max_num/2)\n",
      "            b = train_data[b_int]\n",
      "\n",
      "            # Actual Answer\n",
      "            c_int = a_int + b_int\n",
      "            c = train_data[c_int]\n",
      "\n",
      "            # Let us store our best guess (binary encoding)\n",
      "            estimate = np.zeros_like(c)\n",
      "            \n",
      "            # Current Error\n",
      "            cerror = 0\n",
      "            for pos in range(binary_dim):\n",
      "                # Generate input and output\n",
      "                x = np.array([ [a[binary_dim -pos -1], b[binary_dim -pos -1]]])\n",
      "                y = np.array([[c[binary_dim -pos -1 ]]]).T\n",
      "\n",
      "                z = self.feedforward(x)\n",
      "                cerror += self.error(z, y)\n",
      "\n",
      "                # Decoding the esimate\n",
      "                estimate[binary_dim -pos -1] = np.round(z[0][0])\n",
      "\n",
      "            future_hidden_layer_delta = np.zeros(self.sizes[1])\n",
      "            \n",
      "            del_w_0 = np.zeros_like(self.weights_0)\n",
      "            del_w_1 = np.zeros_like(self.weights_1)\n",
      "            del_w_h = np.zeros_like(self.weights_h)\n",
      "            \n",
      "            # Update values\n",
      "            for pos in range(binary_dim):\n",
      "                x = np.array([[a[pos], b[pos]]])\n",
      "                \n",
      "                hidden_layer = self.hidden_values[-pos -1]\n",
      "                prev_hidden_layer = self.hidden_values[-pos -2]\n",
      "\n",
      "                # Error at the output layer\n",
      "                output_delta = self.output_deltas[-pos -1]\n",
      "                \n",
      "                # Error at hidden layer\n",
      "                hidden_layer_delta = (np.dot(future_hidden_layer_delta, self.weights_h.T) + \\\n",
      "                                      np.dot(output_delta ,self.weights_1.T)) * sigmoid_derivative(hidden_layer)\n",
      "                \n",
      "                del_w_1 += np.atleast_2d(hidden_layer).T.dot(output_delta)\n",
      "                del_w_h += np.dot(np.atleast_2d(prev_hidden_layer).T, hidden_layer_delta)\n",
      "                del_w_0 += np.dot(x.T, hidden_layer_delta)\n",
      "                \n",
      "                future_hidden_layer_delta = hidden_layer_delta\n",
      "            \n",
      "            self.weights_0 += (eta*del_w_0)\n",
      "            self.weights_1 += (eta*del_w_1)\n",
      "            self.weights_h += (eta*del_w_h)\n",
      "            \n",
      "            # print out progress\n",
      "            if(epoch % int(epochs/10) == 0):\n",
      "                print \"Error:\" + str(cerror)\n",
      "                print \"Pred:\" + str(estimate)\n",
      "                print \"True:\" + str(c)\n",
      "                out = 0\n",
      "                for index,x in enumerate(reversed(estimate)):\n",
      "                    out += x*pow(2,index)\n",
      "                print str(a_int) + \" + \" + str(b_int) + \" = \" + str(out)\n",
      "                print \"------------\"\n",
      "        \n",
      "    # Calculate the error at final layer\n",
      "    def error(self, predict, actual):\n",
      "        output_error = actual - predict\n",
      "        self.output_deltas.append((output_error)*sigmoid_derivative(predict))\n",
      "        return np.abs(output_error[0])        "
     ],
     "language": "python",
     "metadata": {},
     "outputs": [],
     "prompt_number": 620
    },
    {
     "cell_type": "code",
     "collapsed": false,
     "input": [
      "# Generate some training data\n",
      "def load_training_data(binary_dim=8):\n",
      "    int2binary = {}\n",
      "    max_num = np.power(2, binary_dim)\n",
      "    binary = np.unpackbits(np.array([range(max_num)], dtype=np.uint8).T, axis=1)\n",
      "    for i in xrange(max_num):\n",
      "        int2binary[i] = binary[i]\n",
      "    return int2binary"
     ],
     "language": "python",
     "metadata": {},
     "outputs": [],
     "prompt_number": 621
    },
    {
     "cell_type": "code",
     "collapsed": false,
     "input": [
      "binary_dim = 8\n",
      "data = load_training_data(binary_dim=binary_dim)\n",
      "net = Network([2, 16, 1])\n",
      "net.train(data,binary_dim=binary_dim)"
     ],
     "language": "python",
     "metadata": {},
     "outputs": [
      {
       "output_type": "stream",
       "stream": "stdout",
       "text": [
        "Error:[ 3.62291485]\n",
        "Pred:[1 1 1 1 1 1 1 1]\n",
        "True:[1 0 1 1 0 1 0 1]\n",
        "112 + 69 = 255\n",
        "------------\n",
        "Error:[ 4.01132355]"
       ]
      },
      {
       "output_type": "stream",
       "stream": "stdout",
       "text": [
        "\n",
        "Pred:[0 1 0 0 1 0 0 0]\n",
        "True:[0 1 0 1 0 1 1 1]\n",
        "55 + 32 = 72\n",
        "------------\n",
        "Error:[ 3.07530613]"
       ]
      },
      {
       "output_type": "stream",
       "stream": "stdout",
       "text": [
        "\n",
        "Pred:[0 0 0 0 0 0 0 0]\n",
        "True:[0 1 0 0 0 1 0 0]\n",
        "2 + 66 = 0\n",
        "------------\n",
        "Error:[ 1.54270968]"
       ]
      },
      {
       "output_type": "stream",
       "stream": "stdout",
       "text": [
        "\n",
        "Pred:[0 1 0 0 0 0 1 1]\n",
        "True:[0 1 0 0 0 0 1 1]\n",
        "56 + 11 = 67\n",
        "------------\n",
        "Error:[ 0.65469948]"
       ]
      },
      {
       "output_type": "stream",
       "stream": "stdout",
       "text": [
        "\n",
        "Pred:[0 1 1 0 0 1 0 1]\n",
        "True:[0 1 1 0 0 1 0 1]\n",
        "86 + 15 = 101\n",
        "------------\n",
        "Error:[ 0.45726925]"
       ]
      },
      {
       "output_type": "stream",
       "stream": "stdout",
       "text": [
        "\n",
        "Pred:[1 0 1 1 0 1 1 0]\n",
        "True:[1 0 1 1 0 1 1 0]\n",
        "107 + 75 = 182\n",
        "------------\n",
        "Error:[ 0.28859473]"
       ]
      },
      {
       "output_type": "stream",
       "stream": "stdout",
       "text": [
        "\n",
        "Pred:[0 1 0 1 1 0 1 1]\n",
        "True:[0 1 0 1 1 0 1 1]\n",
        "66 + 25 = 91\n",
        "------------\n",
        "Error:[ 0.23185884]"
       ]
      },
      {
       "output_type": "stream",
       "stream": "stdout",
       "text": [
        "\n",
        "Pred:[0 0 1 1 1 0 1 1]\n",
        "True:[0 0 1 1 1 0 1 1]\n",
        "37 + 22 = 59\n",
        "------------\n",
        "Error:[ 0.25865502]"
       ]
      },
      {
       "output_type": "stream",
       "stream": "stdout",
       "text": [
        "\n",
        "Pred:[1 0 1 0 0 0 1 0]\n",
        "True:[1 0 1 0 0 0 1 0]\n",
        "69 + 93 = 162\n",
        "------------\n",
        "Error:[ 0.1914681]"
       ]
      },
      {
       "output_type": "stream",
       "stream": "stdout",
       "text": [
        "\n",
        "Pred:[0 1 1 1 1 0 1 1]\n",
        "True:[0 1 1 1 1 0 1 1]\n",
        "101 + 22 = 123\n",
        "------------\n"
       ]
      }
     ],
     "prompt_number": 622
    },
    {
     "cell_type": "code",
     "collapsed": false,
     "input": [],
     "language": "python",
     "metadata": {},
     "outputs": [],
     "prompt_number": 615
    },
    {
     "cell_type": "code",
     "collapsed": false,
     "input": [
      "sigmoid(1)"
     ],
     "language": "python",
     "metadata": {},
     "outputs": [
      {
       "metadata": {},
       "output_type": "pyout",
       "prompt_number": 527,
       "text": [
        "0.7310585786300049"
       ]
      }
     ],
     "prompt_number": 527
    },
    {
     "cell_type": "code",
     "collapsed": false,
     "input": [
      "a.shape"
     ],
     "language": "python",
     "metadata": {},
     "outputs": [
      {
       "metadata": {},
       "output_type": "pyout",
       "prompt_number": 416,
       "text": [
        "(10, 1)"
       ]
      }
     ],
     "prompt_number": 416
    },
    {
     "cell_type": "code",
     "collapsed": false,
     "input": [
      "len(net.weights_normal), len(net.weights_hidden_hidden)"
     ],
     "language": "python",
     "metadata": {},
     "outputs": [
      {
       "ename": "AttributeError",
       "evalue": "'Network' object has no attribute 'weights_normal'",
       "output_type": "pyerr",
       "traceback": [
        "\u001b[0;31m---------------------------------------------------------------------------\u001b[0m\n\u001b[0;31mAttributeError\u001b[0m                            Traceback (most recent call last)",
        "\u001b[0;32m<ipython-input-371-60ede61cc8ff>\u001b[0m in \u001b[0;36m<module>\u001b[0;34m()\u001b[0m\n\u001b[0;32m----> 1\u001b[0;31m \u001b[0mlen\u001b[0m\u001b[0;34m(\u001b[0m\u001b[0mnet\u001b[0m\u001b[0;34m.\u001b[0m\u001b[0mweights_normal\u001b[0m\u001b[0;34m)\u001b[0m\u001b[0;34m,\u001b[0m \u001b[0mlen\u001b[0m\u001b[0;34m(\u001b[0m\u001b[0mnet\u001b[0m\u001b[0;34m.\u001b[0m\u001b[0mweights_hidden_hidden\u001b[0m\u001b[0;34m)\u001b[0m\u001b[0;34m\u001b[0m\u001b[0m\n\u001b[0m",
        "\u001b[0;31mAttributeError\u001b[0m: 'Network' object has no attribute 'weights_normal'"
       ]
      }
     ],
     "prompt_number": 371
    },
    {
     "cell_type": "code",
     "collapsed": false,
     "input": [
      "[net.biases[index].shape for index in range(net.num_layers)]"
     ],
     "language": "python",
     "metadata": {},
     "outputs": [
      {
       "ename": "IndexError",
       "evalue": "list index out of range",
       "output_type": "pyerr",
       "traceback": [
        "\u001b[0;31m---------------------------------------------------------------------------\u001b[0m\n\u001b[0;31mIndexError\u001b[0m                                Traceback (most recent call last)",
        "\u001b[0;32m<ipython-input-166-ef013913ab55>\u001b[0m in \u001b[0;36m<module>\u001b[0;34m()\u001b[0m\n\u001b[0;32m----> 1\u001b[0;31m \u001b[0;34m[\u001b[0m\u001b[0mnet\u001b[0m\u001b[0;34m.\u001b[0m\u001b[0mbiases\u001b[0m\u001b[0;34m[\u001b[0m\u001b[0mindex\u001b[0m\u001b[0;34m]\u001b[0m\u001b[0;34m.\u001b[0m\u001b[0mshape\u001b[0m \u001b[0;32mfor\u001b[0m \u001b[0mindex\u001b[0m \u001b[0;32min\u001b[0m \u001b[0mrange\u001b[0m\u001b[0;34m(\u001b[0m\u001b[0mnet\u001b[0m\u001b[0;34m.\u001b[0m\u001b[0mnum_layers\u001b[0m\u001b[0;34m)\u001b[0m\u001b[0;34m]\u001b[0m\u001b[0;34m\u001b[0m\u001b[0m\n\u001b[0m",
        "\u001b[0;31mIndexError\u001b[0m: list index out of range"
       ]
      }
     ],
     "prompt_number": 166
    },
    {
     "cell_type": "code",
     "collapsed": false,
     "input": [
      "[net.weights_hidden_hidden[index].shape for index in range(net.num_layers-2)]"
     ],
     "language": "python",
     "metadata": {},
     "outputs": [
      {
       "metadata": {},
       "output_type": "pyout",
       "prompt_number": 76,
       "text": [
        "[(16, 16)]"
       ]
      }
     ],
     "prompt_number": 76
    },
    {
     "cell_type": "code",
     "collapsed": false,
     "input": [
      "[net.layer_values[index].shape for index in range(net.num_layers-1)]"
     ],
     "language": "python",
     "metadata": {},
     "outputs": [
      {
       "metadata": {},
       "output_type": "pyout",
       "prompt_number": 78,
       "text": [
        "[(1,), (2,)]"
       ]
      }
     ],
     "prompt_number": 78
    },
    {
     "cell_type": "code",
     "collapsed": false,
     "input": [
      "binary_dim = 5\n",
      "data = load_training_data(binary_dim=binary_dim)\n",
      "x, y, z  = data[9], data[4], data[13]\n",
      "pos = 2\n",
      "inp = np.array([[x[binary_dim -pos -1], y[binary_dim -pos -1]]])"
     ],
     "language": "python",
     "metadata": {},
     "outputs": [
      {
       "output_type": "stream",
       "stream": "stdout",
       "text": [
        "32\n"
       ]
      }
     ],
     "prompt_number": 215
    },
    {
     "cell_type": "code",
     "collapsed": false,
     "input": [
      "x[binary_dim -pos -1], y[binary_dim -pos -1]"
     ],
     "language": "python",
     "metadata": {},
     "outputs": [
      {
       "metadata": {},
       "output_type": "pyout",
       "prompt_number": 189,
       "text": [
        "(0, 0)"
       ]
      }
     ],
     "prompt_number": 189
    },
    {
     "cell_type": "code",
     "collapsed": false,
     "input": [
      "out = z[binary_dim -pos -1]"
     ],
     "language": "python",
     "metadata": {},
     "outputs": [],
     "prompt_number": 190
    },
    {
     "cell_type": "code",
     "collapsed": false,
     "input": [
      "out = np.array([[out]])"
     ],
     "language": "python",
     "metadata": {},
     "outputs": [],
     "prompt_number": 193
    },
    {
     "cell_type": "code",
     "collapsed": false,
     "input": [
      "x = np.random.rand(10)\n",
      "y = np.random.rand(10, 10)"
     ],
     "language": "python",
     "metadata": {},
     "outputs": [],
     "prompt_number": 390
    },
    {
     "cell_type": "code",
     "collapsed": false,
     "input": [
      "z1 = np.dot(x, y)"
     ],
     "language": "python",
     "metadata": {},
     "outputs": [],
     "prompt_number": 395
    },
    {
     "cell_type": "code",
     "collapsed": false,
     "input": [
      "z2 = np.dot(y, x)"
     ],
     "language": "python",
     "metadata": {},
     "outputs": [],
     "prompt_number": 396
    },
    {
     "cell_type": "code",
     "collapsed": false,
     "input": [
      "z1.shape, z2.shape"
     ],
     "language": "python",
     "metadata": {},
     "outputs": [
      {
       "metadata": {},
       "output_type": "pyout",
       "prompt_number": 397,
       "text": [
        "((10,), (10,))"
       ]
      }
     ],
     "prompt_number": 397
    },
    {
     "cell_type": "code",
     "collapsed": false,
     "input": [
      "data[5][1:-1]"
     ],
     "language": "python",
     "metadata": {},
     "outputs": [
      {
       "metadata": {},
       "output_type": "pyout",
       "prompt_number": 217,
       "text": [
        "array([0, 0, 0, 0, 1, 0], dtype=uint8)"
       ]
      }
     ],
     "prompt_number": 217
    },
    {
     "cell_type": "code",
     "collapsed": false,
     "input": [
      "len([key for key in data.keys()])"
     ],
     "language": "python",
     "metadata": {},
     "outputs": [
      {
       "metadata": {},
       "output_type": "pyout",
       "prompt_number": 222,
       "text": [
        "32"
       ]
      }
     ],
     "prompt_number": 222
    },
    {
     "cell_type": "code",
     "collapsed": false,
     "input": [
      "binary = np.unpackbits(np.array([range(max_num)], dtype=np.uint8).T, axis=1)"
     ],
     "language": "python",
     "metadata": {},
     "outputs": [],
     "prompt_number": 230
    },
    {
     "cell_type": "code",
     "collapsed": false,
     "input": [
      "binary[31]"
     ],
     "language": "python",
     "metadata": {},
     "outputs": [
      {
       "metadata": {},
       "output_type": "pyout",
       "prompt_number": 225,
       "text": [
        "array([0, 0, 0, 1, 1, 1, 1, 1], dtype=uint8)"
       ]
      }
     ],
     "prompt_number": 225
    },
    {
     "cell_type": "code",
     "collapsed": false,
     "input": [
      "x = np.array([[1, 2]]).T"
     ],
     "language": "python",
     "metadata": {},
     "outputs": [],
     "prompt_number": 469
    },
    {
     "cell_type": "code",
     "collapsed": false,
     "input": [
      "y = np.random.rand(10)"
     ],
     "language": "python",
     "metadata": {},
     "outputs": [],
     "prompt_number": 354
    },
    {
     "cell_type": "code",
     "collapsed": false,
     "input": [
      "x.shape, y.shape"
     ],
     "language": "python",
     "metadata": {},
     "outputs": [
      {
       "metadata": {},
       "output_type": "pyout",
       "prompt_number": 470,
       "text": [
        "((2, 1), (10, 10))"
       ]
      }
     ],
     "prompt_number": 470
    },
    {
     "cell_type": "code",
     "collapsed": false,
     "input": [
      "np.dot(x.T,y)"
     ],
     "language": "python",
     "metadata": {},
     "outputs": [
      {
       "metadata": {},
       "output_type": "pyout",
       "prompt_number": 356,
       "text": [
        "array([ 3.25584304])"
       ]
      }
     ],
     "prompt_number": 356
    },
    {
     "cell_type": "code",
     "collapsed": false,
     "input": [],
     "language": "python",
     "metadata": {},
     "outputs": []
    }
   ],
   "metadata": {}
  }
 ]
}